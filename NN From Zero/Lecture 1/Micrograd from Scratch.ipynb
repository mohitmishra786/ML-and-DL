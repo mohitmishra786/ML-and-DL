{
 "cells": [
  {
   "cell_type": "code",
   "execution_count": 1,
   "id": "0c874c34",
   "metadata": {},
   "outputs": [],
   "source": [
    "import numpy as np\n",
    "import math\n",
    "import matplotlib.pyplot as plt\n",
    "%matplotlib inline"
   ]
  },
  {
   "cell_type": "code",
   "execution_count": 2,
   "id": "cf9254ca",
   "metadata": {},
   "outputs": [],
   "source": [
    "def f(x):\n",
    "    return 3*x**2 - 4*x + 2"
   ]
  },
  {
   "cell_type": "code",
   "execution_count": 3,
   "id": "14296cf6",
   "metadata": {},
   "outputs": [
    {
     "data": {
      "text/plain": [
       "6"
      ]
     },
     "execution_count": 3,
     "metadata": {},
     "output_type": "execute_result"
    }
   ],
   "source": [
    "f(2)"
   ]
  },
  {
   "cell_type": "code",
   "execution_count": 4,
   "id": "b2aa443f",
   "metadata": {},
   "outputs": [],
   "source": [
    "x_rand = np.arange(-10,10,0.5)\n",
    "y = f(x_rand)"
   ]
  },
  {
   "cell_type": "code",
   "execution_count": 5,
   "id": "ded9c230",
   "metadata": {},
   "outputs": [
    {
     "data": {
      "text/plain": [
       "[<matplotlib.lines.Line2D at 0x1b40fc28fd0>]"
      ]
     },
     "execution_count": 5,
     "metadata": {},
     "output_type": "execute_result"
    },
    {
     "data": {
      "image/png": "[encoded data removed]",
      "text/plain": [
       "<Figure size 432x288 with 1 Axes>"
      ]
     },
     "metadata": {
      "needs_background": "light"
     },
     "output_type": "display_data"
    }
   ],
   "source": [
    "plt.plot(x_rand , y)"
   ]
  },
  {
   "cell_type": "markdown",
   "id": "2ce9d7a3",
   "metadata": {},
   "source": [
    "**Let's think**\n",
    "\n",
    "- Now let's thing what is the derivative of this function at any point x?\n",
    "- Check the defination of derivative, see what actually derivate tells us rather than just calculating it."
   ]
  },
  {
   "cell_type": "code",
   "execution_count": 6,
   "id": "084aa92a",
   "metadata": {},
   "outputs": [
    {
     "data": {
      "text/plain": [
       "11.000000910144081"
      ]
     },
     "execution_count": 6,
     "metadata": {},
     "output_type": "execute_result"
    }
   ],
   "source": [
    "# Checking derivative\n",
    "\n",
    "h = 0.000000001\n",
    "x = 2.5\n",
    "derivative = (f(x + h) - f(x))/h\n",
    "derivative"
   ]
  },
  {
   "cell_type": "markdown",
   "id": "33c52ae7",
   "metadata": {},
   "source": [
    "## More than 2 inputs"
   ]
  },
  {
   "cell_type": "code",
   "execution_count": 7,
   "id": "4d80ca7c",
   "metadata": {},
   "outputs": [
    {
     "name": "stdout",
     "output_type": "stream",
     "text": [
      "d1 :  4.5\n",
      "d2 :  4.500003\n",
      "slope :  3.000000000419334\n"
     ]
    }
   ],
   "source": [
    "h = 0.000001\n",
    "\n",
    "#inputs\n",
    "\n",
    "a = 2.0\n",
    "b = 3.0\n",
    "c = -1.5\n",
    "\n",
    "# let's check d derivative w.r.t a\n",
    "d1 = a * b + c\n",
    "print('d1 : ', d1)\n",
    "a += h\n",
    "d2 = a * b + c\n",
    "print('d2 : ', d2)\n",
    "\n",
    "# let's check derivative now\n",
    "print('slope : ', (d2 - d1)/h)"
   ]
  },
  {
   "cell_type": "code",
   "execution_count": 8,
   "id": "0ee0b534",
   "metadata": {},
   "outputs": [
    {
     "name": "stdout",
     "output_type": "stream",
     "text": [
      "d1 :  4.5\n",
      "d3 :  4.500002\n",
      "slope :  2.000000000279556\n"
     ]
    }
   ],
   "source": [
    "# Let's do the same derivative check for b\n",
    "\n",
    "# Checking the value of d without any change in b\n",
    "print('d1 : ', d1)\n",
    "\n",
    "# reversing the change that we did on a\n",
    "a -= h\n",
    "\n",
    "# doing some change in a\n",
    "b += h\n",
    "\n",
    "d3 = a * b + c\n",
    "print('d3 : ',d3)\n",
    "\n",
    "# let's check the derivative now\n",
    "\n",
    "print('slope : ', (d3 - d1)/h)"
   ]
  },
  {
   "cell_type": "code",
   "execution_count": 9,
   "id": "51c57e20",
   "metadata": {},
   "outputs": [
    {
     "name": "stdout",
     "output_type": "stream",
     "text": [
      "d1 :  4.5\n",
      "d3 :  4.500001\n",
      "slope :  1.000000000139778\n"
     ]
    }
   ],
   "source": [
    "# Let's do the same derivative check for c\n",
    "\n",
    "# Checking the value of d without any change in c\n",
    "print('d1 : ', d1)\n",
    "\n",
    "# reversing the change that we did on b\n",
    "b -= h\n",
    "\n",
    "# doing some change in c\n",
    "c += h\n",
    "\n",
    "d3 = a * b + c\n",
    "print('d3 : ',d3)\n",
    "\n",
    "# let's check the derivative now\n",
    "\n",
    "print('slope : ', (d3 - d1)/h)"
   ]
  },
  {
   "cell_type": "markdown",
   "id": "e806872a",
   "metadata": {},
   "source": [
    "## Value Object (Data Structure)"
   ]
  },
  {
   "cell_type": "code",
   "execution_count": 30,
   "id": "5e2e9465",
   "metadata": {},
   "outputs": [],
   "source": [
    "class Value:\n",
    "    \n",
    "    def __init__(self, data, _children=(), _op = '', label = ''):\n",
    "        self.data = data\n",
    "        self._prev = set(_children)\n",
    "        self._op = _op  # For operations\n",
    "        self.label = label\n",
    "    \n",
    "    # This repr function is very useful as if we will not use this value then we will\n",
    "    # Get some kind of ugly ouput which is not understandable for end users\n",
    "    def __repr__(self):\n",
    "        return f\"Value(data={self.data})\"\n",
    "    \n",
    "    def __add__(self, other):\n",
    "        ans =  Value(self.data + other.data, (self, other) , '+')\n",
    "        return ans\n",
    "    \n",
    "    def __mul__(self,other):\n",
    "        ans =  Value(self.data * other.data, (self, other), '*')\n",
    "        return ans"
   ]
  },
  {
   "cell_type": "code",
   "execution_count": 40,
   "id": "4f250ef1",
   "metadata": {},
   "outputs": [
    {
     "data": {
      "text/plain": [
       "Value(data=-8.0)"
      ]
     },
     "execution_count": 40,
     "metadata": {},
     "output_type": "execute_result"
    }
   ],
   "source": [
    "a = Value(2.0, label='a')\n",
    "b = Value(-3.0, label='b')\n",
    "c = Value(10.0, label='c')\n",
    "e = a*b; e.label = 'e'\n",
    "d = e + c; d.label = 'd'\n",
    "f = Value(-2.0, label='f')\n",
    "L = d * f; L.label = 'L'\n",
    "L"
   ]
  },
  {
   "cell_type": "code",
   "execution_count": 41,
   "id": "1b5e8747",
   "metadata": {},
   "outputs": [],
   "source": [
    "from graphviz import Digraph\n",
    "\n",
    "def trace(root):\n",
    "  # builds a set of all nodes and edges in a graph\n",
    "  nodes, edges = set(), set()\n",
    "  def build(v):\n",
    "    if v not in nodes:\n",
    "      nodes.add(v)\n",
    "      for child in v._prev:\n",
    "        edges.add((child, v))\n",
    "        build(child)\n",
    "  build(root)\n",
    "  return nodes, edges\n",
    "\n",
    "def draw_dot(root):\n",
    "  dot = Digraph(format='svg', graph_attr={'rankdir': 'LR'}) # LR = left to right\n",
    "  \n",
    "  nodes, edges = trace(root)\n",
    "  for n in nodes:\n",
    "    uid = str(id(n))\n",
    "    # for any value in the graph, create a rectangular ('record') node for it\n",
    "    dot.node(name = uid, label = \"{ %s | data %.4f }\" % (n.label, n.data), shape='record')\n",
    "    if n._op:\n",
    "      # if this value is a result of some operation, create an op node for it\n",
    "      dot.node(name = uid + n._op, label = n._op)\n",
    "      # and connect this node to it\n",
    "      dot.edge(uid + n._op, uid)\n",
    "\n",
    "  for n1, n2 in edges:\n",
    "    # connect n1 to the op node of n2\n",
    "    dot.edge(str(id(n1)), str(id(n2)) + n2._op)\n",
    "\n",
    "  return dot"
   ]
  },
  {
   "cell_type": "code",
   "execution_count": 42,
   "id": "a2baa7aa",
   "metadata": {},
   "outputs": [
    {
     "data": {
      "image/svg+xml": [
       "<?xml version=\"1.0\" encoding=\"UTF-8\" standalone=\"no\"?>\n",
       "<!DOCTYPE svg PUBLIC \"-//W3C//DTD SVG 1.1//EN\"\n",
       " \"http://www.w3.org/Graphics/SVG/1.1/DTD/svg11.dtd\">\n",
       "<!-- Generated by graphviz version 2.50.0 (0)\n",
       " -->\n",
       "<!-- Pages: 1 -->\n",
       "<svg width=\"820pt\" height=\"156pt\"\n",
       " viewBox=\"0.00 0.00 820.00 156.00\" xmlns=\"http://www.w3.org/2000/svg\" xmlns:xlink=\"http://www.w3.org/1999/xlink\">\n",
       "<g id=\"graph0\" class=\"graph\" transform=\"scale(1 1) rotate(0) translate(4 152)\">\n",
       "<polygon fill=\"white\" stroke=\"transparent\" points=\"-4,4 -4,-152 816,-152 816,4 -4,4\"/>\n",
       "<!-- 1872910861360 -->\n",
       "<g id=\"node1\" class=\"node\">\n",
       "<title>1872910861360</title>\n",
       "<polygon fill=\"none\" stroke=\"black\" points=\"0,-111.5 0,-147.5 108,-147.5 108,-111.5 0,-111.5\"/>\n",
       "<text text-anchor=\"middle\" x=\"11.5\" y=\"-125.8\" font-family=\"Times New Roman,serif\" font-size=\"14.00\">b</text>\n",
       "<polyline fill=\"none\" stroke=\"black\" points=\"23,-111.5 23,-147.5 \"/>\n",
       "<text text-anchor=\"middle\" x=\"65.5\" y=\"-125.8\" font-family=\"Times New Roman,serif\" font-size=\"14.00\">data &#45;3.0000</text>\n",
       "</g>\n",
       "<!-- 1872910863664* -->\n",
       "<g id=\"node7\" class=\"node\">\n",
       "<title>1872910863664*</title>\n",
       "<ellipse fill=\"none\" stroke=\"black\" cx=\"171\" cy=\"-101.5\" rx=\"27\" ry=\"18\"/>\n",
       "<text text-anchor=\"middle\" x=\"171\" y=\"-97.8\" font-family=\"Times New Roman,serif\" font-size=\"14.00\">*</text>\n",
       "</g>\n",
       "<!-- 1872910861360&#45;&gt;1872910863664* -->\n",
       "<g id=\"edge5\" class=\"edge\">\n",
       "<title>1872910861360&#45;&gt;1872910863664*</title>\n",
       "<path fill=\"none\" stroke=\"black\" d=\"M108.12,-116.57C117.51,-114.28 127.06,-111.95 135.76,-109.84\"/>\n",
       "<polygon fill=\"black\" stroke=\"black\" points=\"136.62,-113.23 145.51,-107.46 134.97,-106.43 136.62,-113.23\"/>\n",
       "</g>\n",
       "<!-- 1872910860400 -->\n",
       "<g id=\"node2\" class=\"node\">\n",
       "<title>1872910860400</title>\n",
       "<polygon fill=\"none\" stroke=\"black\" points=\"234,-28.5 234,-64.5 344,-64.5 344,-28.5 234,-28.5\"/>\n",
       "<text text-anchor=\"middle\" x=\"245.5\" y=\"-42.8\" font-family=\"Times New Roman,serif\" font-size=\"14.00\">c</text>\n",
       "<polyline fill=\"none\" stroke=\"black\" points=\"257,-28.5 257,-64.5 \"/>\n",
       "<text text-anchor=\"middle\" x=\"300.5\" y=\"-42.8\" font-family=\"Times New Roman,serif\" font-size=\"14.00\">data 10.0000</text>\n",
       "</g>\n",
       "<!-- 1872910863232+ -->\n",
       "<g id=\"node9\" class=\"node\">\n",
       "<title>1872910863232+</title>\n",
       "<ellipse fill=\"none\" stroke=\"black\" cx=\"407\" cy=\"-73.5\" rx=\"27\" ry=\"18\"/>\n",
       "<text text-anchor=\"middle\" x=\"407\" y=\"-69.8\" font-family=\"Times New Roman,serif\" font-size=\"14.00\">+</text>\n",
       "</g>\n",
       "<!-- 1872910860400&#45;&gt;1872910863232+ -->\n",
       "<g id=\"edge8\" class=\"edge\">\n",
       "<title>1872910860400&#45;&gt;1872910863232+</title>\n",
       "<path fill=\"none\" stroke=\"black\" d=\"M344.26,-59.13C353.49,-61.28 362.84,-63.45 371.37,-65.44\"/>\n",
       "<polygon fill=\"black\" stroke=\"black\" points=\"370.79,-68.9 381.32,-67.76 372.38,-62.08 370.79,-68.9\"/>\n",
       "</g>\n",
       "<!-- 1872910864000 -->\n",
       "<g id=\"node3\" class=\"node\">\n",
       "<title>1872910864000</title>\n",
       "<polygon fill=\"none\" stroke=\"black\" points=\"2.5,-56.5 2.5,-92.5 105.5,-92.5 105.5,-56.5 2.5,-56.5\"/>\n",
       "<text text-anchor=\"middle\" x=\"14\" y=\"-70.8\" font-family=\"Times New Roman,serif\" font-size=\"14.00\">a</text>\n",
       "<polyline fill=\"none\" stroke=\"black\" points=\"25.5,-56.5 25.5,-92.5 \"/>\n",
       "<text text-anchor=\"middle\" x=\"65.5\" y=\"-70.8\" font-family=\"Times New Roman,serif\" font-size=\"14.00\">data 2.0000</text>\n",
       "</g>\n",
       "<!-- 1872910864000&#45;&gt;1872910863664* -->\n",
       "<g id=\"edge4\" class=\"edge\">\n",
       "<title>1872910864000&#45;&gt;1872910863664*</title>\n",
       "<path fill=\"none\" stroke=\"black\" d=\"M105.78,-86.42C115.74,-88.76 125.98,-91.17 135.28,-93.35\"/>\n",
       "<polygon fill=\"black\" stroke=\"black\" points=\"134.77,-96.82 145.3,-95.7 136.37,-90.01 134.77,-96.82\"/>\n",
       "</g>\n",
       "<!-- 1872910861456 -->\n",
       "<g id=\"node4\" class=\"node\">\n",
       "<title>1872910861456</title>\n",
       "<polygon fill=\"none\" stroke=\"black\" points=\"702,-27.5 702,-63.5 812,-63.5 812,-27.5 702,-27.5\"/>\n",
       "<text text-anchor=\"middle\" x=\"714.5\" y=\"-41.8\" font-family=\"Times New Roman,serif\" font-size=\"14.00\">L</text>\n",
       "<polyline fill=\"none\" stroke=\"black\" points=\"727,-27.5 727,-63.5 \"/>\n",
       "<text text-anchor=\"middle\" x=\"769.5\" y=\"-41.8\" font-family=\"Times New Roman,serif\" font-size=\"14.00\">data &#45;8.0000</text>\n",
       "</g>\n",
       "<!-- 1872910861456* -->\n",
       "<g id=\"node5\" class=\"node\">\n",
       "<title>1872910861456*</title>\n",
       "<ellipse fill=\"none\" stroke=\"black\" cx=\"639\" cy=\"-45.5\" rx=\"27\" ry=\"18\"/>\n",
       "<text text-anchor=\"middle\" x=\"639\" y=\"-41.8\" font-family=\"Times New Roman,serif\" font-size=\"14.00\">*</text>\n",
       "</g>\n",
       "<!-- 1872910861456*&#45;&gt;1872910861456 -->\n",
       "<g id=\"edge1\" class=\"edge\">\n",
       "<title>1872910861456*&#45;&gt;1872910861456</title>\n",
       "<path fill=\"none\" stroke=\"black\" d=\"M666.03,-45.5C673.7,-45.5 682.45,-45.5 691.42,-45.5\"/>\n",
       "<polygon fill=\"black\" stroke=\"black\" points=\"691.58,-49 701.58,-45.5 691.58,-42 691.58,-49\"/>\n",
       "</g>\n",
       "<!-- 1872910863664 -->\n",
       "<g id=\"node6\" class=\"node\">\n",
       "<title>1872910863664</title>\n",
       "<polygon fill=\"none\" stroke=\"black\" points=\"235,-83.5 235,-119.5 343,-119.5 343,-83.5 235,-83.5\"/>\n",
       "<text text-anchor=\"middle\" x=\"246.5\" y=\"-97.8\" font-family=\"Times New Roman,serif\" font-size=\"14.00\">e</text>\n",
       "<polyline fill=\"none\" stroke=\"black\" points=\"258,-83.5 258,-119.5 \"/>\n",
       "<text text-anchor=\"middle\" x=\"300.5\" y=\"-97.8\" font-family=\"Times New Roman,serif\" font-size=\"14.00\">data &#45;6.0000</text>\n",
       "</g>\n",
       "<!-- 1872910863664&#45;&gt;1872910863232+ -->\n",
       "<g id=\"edge6\" class=\"edge\">\n",
       "<title>1872910863664&#45;&gt;1872910863232+</title>\n",
       "<path fill=\"none\" stroke=\"black\" d=\"M343.25,-88.65C352.84,-86.33 362.6,-83.98 371.48,-81.83\"/>\n",
       "<polygon fill=\"black\" stroke=\"black\" points=\"372.54,-85.18 381.43,-79.43 370.89,-78.37 372.54,-85.18\"/>\n",
       "</g>\n",
       "<!-- 1872910863664*&#45;&gt;1872910863664 -->\n",
       "<g id=\"edge2\" class=\"edge\">\n",
       "<title>1872910863664*&#45;&gt;1872910863664</title>\n",
       "<path fill=\"none\" stroke=\"black\" d=\"M198.03,-101.5C206.08,-101.5 215.32,-101.5 224.74,-101.5\"/>\n",
       "<polygon fill=\"black\" stroke=\"black\" points=\"224.99,-105 234.99,-101.5 224.99,-98 224.99,-105\"/>\n",
       "</g>\n",
       "<!-- 1872910863232 -->\n",
       "<g id=\"node8\" class=\"node\">\n",
       "<title>1872910863232</title>\n",
       "<polygon fill=\"none\" stroke=\"black\" points=\"471.5,-55.5 471.5,-91.5 574.5,-91.5 574.5,-55.5 471.5,-55.5\"/>\n",
       "<text text-anchor=\"middle\" x=\"483\" y=\"-69.8\" font-family=\"Times New Roman,serif\" font-size=\"14.00\">d</text>\n",
       "<polyline fill=\"none\" stroke=\"black\" points=\"494.5,-55.5 494.5,-91.5 \"/>\n",
       "<text text-anchor=\"middle\" x=\"534.5\" y=\"-69.8\" font-family=\"Times New Roman,serif\" font-size=\"14.00\">data 4.0000</text>\n",
       "</g>\n",
       "<!-- 1872910863232&#45;&gt;1872910861456* -->\n",
       "<g id=\"edge7\" class=\"edge\">\n",
       "<title>1872910863232&#45;&gt;1872910861456*</title>\n",
       "<path fill=\"none\" stroke=\"black\" d=\"M574.67,-61.06C584.43,-58.66 594.45,-56.2 603.55,-53.96\"/>\n",
       "<polygon fill=\"black\" stroke=\"black\" points=\"604.5,-57.33 613.37,-51.55 602.83,-50.54 604.5,-57.33\"/>\n",
       "</g>\n",
       "<!-- 1872910863232+&#45;&gt;1872910863232 -->\n",
       "<g id=\"edge3\" class=\"edge\">\n",
       "<title>1872910863232+&#45;&gt;1872910863232</title>\n",
       "<path fill=\"none\" stroke=\"black\" d=\"M434.15,-73.5C442.26,-73.5 451.57,-73.5 461.02,-73.5\"/>\n",
       "<polygon fill=\"black\" stroke=\"black\" points=\"461.28,-77 471.28,-73.5 461.28,-70 461.28,-77\"/>\n",
       "</g>\n",
       "<!-- 1872910863856 -->\n",
       "<g id=\"node10\" class=\"node\">\n",
       "<title>1872910863856</title>\n",
       "<polygon fill=\"none\" stroke=\"black\" points=\"470,-0.5 470,-36.5 576,-36.5 576,-0.5 470,-0.5\"/>\n",
       "<text text-anchor=\"middle\" x=\"480.5\" y=\"-14.8\" font-family=\"Times New Roman,serif\" font-size=\"14.00\">f</text>\n",
       "<polyline fill=\"none\" stroke=\"black\" points=\"491,-0.5 491,-36.5 \"/>\n",
       "<text text-anchor=\"middle\" x=\"533.5\" y=\"-14.8\" font-family=\"Times New Roman,serif\" font-size=\"14.00\">data &#45;2.0000</text>\n",
       "</g>\n",
       "<!-- 1872910863856&#45;&gt;1872910861456* -->\n",
       "<g id=\"edge9\" class=\"edge\">\n",
       "<title>1872910863856&#45;&gt;1872910861456*</title>\n",
       "<path fill=\"none\" stroke=\"black\" d=\"M576.33,-30.89C585.48,-33.06 594.8,-35.27 603.33,-37.29\"/>\n",
       "<polygon fill=\"black\" stroke=\"black\" points=\"602.73,-40.74 613.27,-39.64 604.34,-33.93 602.73,-40.74\"/>\n",
       "</g>\n",
       "</g>\n",
       "</svg>\n"
      ],
      "text/plain": [
       "<graphviz.graphs.Digraph at 0x1b412333f10>"
      ]
     },
     "execution_count": 42,
     "metadata": {},
     "output_type": "execute_result"
    }
   ],
   "source": [
    "draw_dot(L)"
   ]
  },
  {
   "cell_type": "code",
   "execution_count": null,
   "id": "c2dcbb46",
   "metadata": {},
   "outputs": [],
   "source": []
  }
 ],
 "metadata": {
  "kernelspec": {
   "display_name": "Python 3.8 (pytorch)",
   "language": "python",
   "name": "pytorch"
  },
  "language_info": {
   "codemirror_mode": {
    "name": "ipython",
    "version": 3
   },
   "file_extension": ".py",
   "mimetype": "text/x-python",
   "name": "python",
   "nbconvert_exporter": "python",
   "pygments_lexer": "ipython3",
   "version": "3.8.13"
  }
 },
 "nbformat": 4,
 "nbformat_minor": 5
}
