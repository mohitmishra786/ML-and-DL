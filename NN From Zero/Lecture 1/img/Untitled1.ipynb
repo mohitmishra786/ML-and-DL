{
 "cells": [
  {
   "cell_type": "code",
   "execution_count": 6,
   "id": "0ee1913c",
   "metadata": {},
   "outputs": [],
   "source": [
    "from svglib.svglib import svg2rlg\n",
    "from reportlab.graphics import renderPM\n",
    "drawing = svg2rlg(\"g4.svg\")\n",
    "renderPM.drawToFile(drawing, \"g4.png\", fmt=\"PNG\")"
   ]
  },
  {
   "cell_type": "code",
   "execution_count": null,
   "id": "241384d6",
   "metadata": {},
   "outputs": [],
   "source": [
    "s = draw_dot(L)\n",
    "filename = s.render(filename='img/g2')\n",
    "\n",
    "plb.savefig('filename.jpg')"
   ]
  }
 ],
 "metadata": {
  "kernelspec": {
   "display_name": "Python 3.8 (pytorch)",
   "language": "python",
   "name": "pytorch"
  },
  "language_info": {
   "codemirror_mode": {
    "name": "ipython",
    "version": 3
   },
   "file_extension": ".py",
   "mimetype": "text/x-python",
   "name": "python",
   "nbconvert_exporter": "python",
   "pygments_lexer": "ipython3",
   "version": "3.8.13"
  }
 },
 "nbformat": 4,
 "nbformat_minor": 5
}
